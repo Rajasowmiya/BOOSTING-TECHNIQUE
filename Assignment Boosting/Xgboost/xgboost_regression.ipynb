{
 "cells": [
  {
   "cell_type": "code",
   "execution_count": 2,
   "metadata": {},
   "outputs": [],
   "source": [
    "import pandas as pd"
   ]
  },
  {
   "cell_type": "code",
   "execution_count": 3,
   "metadata": {},
   "outputs": [
    {
     "data": {
      "text/html": [
       "<div>\n",
       "<style scoped>\n",
       "    .dataframe tbody tr th:only-of-type {\n",
       "        vertical-align: middle;\n",
       "    }\n",
       "\n",
       "    .dataframe tbody tr th {\n",
       "        vertical-align: top;\n",
       "    }\n",
       "\n",
       "    .dataframe thead th {\n",
       "        text-align: right;\n",
       "    }\n",
       "</style>\n",
       "<table border=\"1\" class=\"dataframe\">\n",
       "  <thead>\n",
       "    <tr style=\"text-align: right;\">\n",
       "      <th></th>\n",
       "      <th>age</th>\n",
       "      <th>sex</th>\n",
       "      <th>bmi</th>\n",
       "      <th>children</th>\n",
       "      <th>smoker</th>\n",
       "      <th>charges</th>\n",
       "    </tr>\n",
       "  </thead>\n",
       "  <tbody>\n",
       "    <tr>\n",
       "      <td>0</td>\n",
       "      <td>19</td>\n",
       "      <td>female</td>\n",
       "      <td>27.900</td>\n",
       "      <td>0</td>\n",
       "      <td>yes</td>\n",
       "      <td>16884.92400</td>\n",
       "    </tr>\n",
       "    <tr>\n",
       "      <td>1</td>\n",
       "      <td>18</td>\n",
       "      <td>male</td>\n",
       "      <td>33.770</td>\n",
       "      <td>1</td>\n",
       "      <td>no</td>\n",
       "      <td>1725.55230</td>\n",
       "    </tr>\n",
       "    <tr>\n",
       "      <td>2</td>\n",
       "      <td>28</td>\n",
       "      <td>male</td>\n",
       "      <td>33.000</td>\n",
       "      <td>3</td>\n",
       "      <td>no</td>\n",
       "      <td>4449.46200</td>\n",
       "    </tr>\n",
       "    <tr>\n",
       "      <td>3</td>\n",
       "      <td>33</td>\n",
       "      <td>male</td>\n",
       "      <td>22.705</td>\n",
       "      <td>0</td>\n",
       "      <td>no</td>\n",
       "      <td>21984.47061</td>\n",
       "    </tr>\n",
       "    <tr>\n",
       "      <td>4</td>\n",
       "      <td>32</td>\n",
       "      <td>male</td>\n",
       "      <td>28.880</td>\n",
       "      <td>0</td>\n",
       "      <td>no</td>\n",
       "      <td>3866.85520</td>\n",
       "    </tr>\n",
       "    <tr>\n",
       "      <td>...</td>\n",
       "      <td>...</td>\n",
       "      <td>...</td>\n",
       "      <td>...</td>\n",
       "      <td>...</td>\n",
       "      <td>...</td>\n",
       "      <td>...</td>\n",
       "    </tr>\n",
       "    <tr>\n",
       "      <td>1333</td>\n",
       "      <td>50</td>\n",
       "      <td>male</td>\n",
       "      <td>30.970</td>\n",
       "      <td>3</td>\n",
       "      <td>no</td>\n",
       "      <td>10600.54830</td>\n",
       "    </tr>\n",
       "    <tr>\n",
       "      <td>1334</td>\n",
       "      <td>18</td>\n",
       "      <td>female</td>\n",
       "      <td>31.920</td>\n",
       "      <td>0</td>\n",
       "      <td>no</td>\n",
       "      <td>2205.98080</td>\n",
       "    </tr>\n",
       "    <tr>\n",
       "      <td>1335</td>\n",
       "      <td>18</td>\n",
       "      <td>female</td>\n",
       "      <td>36.850</td>\n",
       "      <td>0</td>\n",
       "      <td>no</td>\n",
       "      <td>1629.83350</td>\n",
       "    </tr>\n",
       "    <tr>\n",
       "      <td>1336</td>\n",
       "      <td>21</td>\n",
       "      <td>female</td>\n",
       "      <td>25.800</td>\n",
       "      <td>0</td>\n",
       "      <td>no</td>\n",
       "      <td>2007.94500</td>\n",
       "    </tr>\n",
       "    <tr>\n",
       "      <td>1337</td>\n",
       "      <td>61</td>\n",
       "      <td>female</td>\n",
       "      <td>29.070</td>\n",
       "      <td>0</td>\n",
       "      <td>yes</td>\n",
       "      <td>29141.36030</td>\n",
       "    </tr>\n",
       "  </tbody>\n",
       "</table>\n",
       "<p>1338 rows × 6 columns</p>\n",
       "</div>"
      ],
      "text/plain": [
       "      age     sex     bmi  children smoker      charges\n",
       "0      19  female  27.900         0    yes  16884.92400\n",
       "1      18    male  33.770         1     no   1725.55230\n",
       "2      28    male  33.000         3     no   4449.46200\n",
       "3      33    male  22.705         0     no  21984.47061\n",
       "4      32    male  28.880         0     no   3866.85520\n",
       "...   ...     ...     ...       ...    ...          ...\n",
       "1333   50    male  30.970         3     no  10600.54830\n",
       "1334   18  female  31.920         0     no   2205.98080\n",
       "1335   18  female  36.850         0     no   1629.83350\n",
       "1336   21  female  25.800         0     no   2007.94500\n",
       "1337   61  female  29.070         0    yes  29141.36030\n",
       "\n",
       "[1338 rows x 6 columns]"
      ]
     },
     "execution_count": 3,
     "metadata": {},
     "output_type": "execute_result"
    }
   ],
   "source": [
    "dataset=pd.read_csv(\"insurance_pre.csv\")\n",
    "dataset"
   ]
  },
  {
   "cell_type": "code",
   "execution_count": 4,
   "metadata": {},
   "outputs": [
    {
     "data": {
      "text/html": [
       "<div>\n",
       "<style scoped>\n",
       "    .dataframe tbody tr th:only-of-type {\n",
       "        vertical-align: middle;\n",
       "    }\n",
       "\n",
       "    .dataframe tbody tr th {\n",
       "        vertical-align: top;\n",
       "    }\n",
       "\n",
       "    .dataframe thead th {\n",
       "        text-align: right;\n",
       "    }\n",
       "</style>\n",
       "<table border=\"1\" class=\"dataframe\">\n",
       "  <thead>\n",
       "    <tr style=\"text-align: right;\">\n",
       "      <th></th>\n",
       "      <th>age</th>\n",
       "      <th>bmi</th>\n",
       "      <th>children</th>\n",
       "      <th>charges</th>\n",
       "      <th>sex_male</th>\n",
       "      <th>smoker_yes</th>\n",
       "    </tr>\n",
       "  </thead>\n",
       "  <tbody>\n",
       "    <tr>\n",
       "      <td>0</td>\n",
       "      <td>19</td>\n",
       "      <td>27.900</td>\n",
       "      <td>0</td>\n",
       "      <td>16884.92400</td>\n",
       "      <td>0</td>\n",
       "      <td>1</td>\n",
       "    </tr>\n",
       "    <tr>\n",
       "      <td>1</td>\n",
       "      <td>18</td>\n",
       "      <td>33.770</td>\n",
       "      <td>1</td>\n",
       "      <td>1725.55230</td>\n",
       "      <td>1</td>\n",
       "      <td>0</td>\n",
       "    </tr>\n",
       "    <tr>\n",
       "      <td>2</td>\n",
       "      <td>28</td>\n",
       "      <td>33.000</td>\n",
       "      <td>3</td>\n",
       "      <td>4449.46200</td>\n",
       "      <td>1</td>\n",
       "      <td>0</td>\n",
       "    </tr>\n",
       "    <tr>\n",
       "      <td>3</td>\n",
       "      <td>33</td>\n",
       "      <td>22.705</td>\n",
       "      <td>0</td>\n",
       "      <td>21984.47061</td>\n",
       "      <td>1</td>\n",
       "      <td>0</td>\n",
       "    </tr>\n",
       "    <tr>\n",
       "      <td>4</td>\n",
       "      <td>32</td>\n",
       "      <td>28.880</td>\n",
       "      <td>0</td>\n",
       "      <td>3866.85520</td>\n",
       "      <td>1</td>\n",
       "      <td>0</td>\n",
       "    </tr>\n",
       "    <tr>\n",
       "      <td>...</td>\n",
       "      <td>...</td>\n",
       "      <td>...</td>\n",
       "      <td>...</td>\n",
       "      <td>...</td>\n",
       "      <td>...</td>\n",
       "      <td>...</td>\n",
       "    </tr>\n",
       "    <tr>\n",
       "      <td>1333</td>\n",
       "      <td>50</td>\n",
       "      <td>30.970</td>\n",
       "      <td>3</td>\n",
       "      <td>10600.54830</td>\n",
       "      <td>1</td>\n",
       "      <td>0</td>\n",
       "    </tr>\n",
       "    <tr>\n",
       "      <td>1334</td>\n",
       "      <td>18</td>\n",
       "      <td>31.920</td>\n",
       "      <td>0</td>\n",
       "      <td>2205.98080</td>\n",
       "      <td>0</td>\n",
       "      <td>0</td>\n",
       "    </tr>\n",
       "    <tr>\n",
       "      <td>1335</td>\n",
       "      <td>18</td>\n",
       "      <td>36.850</td>\n",
       "      <td>0</td>\n",
       "      <td>1629.83350</td>\n",
       "      <td>0</td>\n",
       "      <td>0</td>\n",
       "    </tr>\n",
       "    <tr>\n",
       "      <td>1336</td>\n",
       "      <td>21</td>\n",
       "      <td>25.800</td>\n",
       "      <td>0</td>\n",
       "      <td>2007.94500</td>\n",
       "      <td>0</td>\n",
       "      <td>0</td>\n",
       "    </tr>\n",
       "    <tr>\n",
       "      <td>1337</td>\n",
       "      <td>61</td>\n",
       "      <td>29.070</td>\n",
       "      <td>0</td>\n",
       "      <td>29141.36030</td>\n",
       "      <td>0</td>\n",
       "      <td>1</td>\n",
       "    </tr>\n",
       "  </tbody>\n",
       "</table>\n",
       "<p>1338 rows × 6 columns</p>\n",
       "</div>"
      ],
      "text/plain": [
       "      age     bmi  children      charges  sex_male  smoker_yes\n",
       "0      19  27.900         0  16884.92400         0           1\n",
       "1      18  33.770         1   1725.55230         1           0\n",
       "2      28  33.000         3   4449.46200         1           0\n",
       "3      33  22.705         0  21984.47061         1           0\n",
       "4      32  28.880         0   3866.85520         1           0\n",
       "...   ...     ...       ...          ...       ...         ...\n",
       "1333   50  30.970         3  10600.54830         1           0\n",
       "1334   18  31.920         0   2205.98080         0           0\n",
       "1335   18  36.850         0   1629.83350         0           0\n",
       "1336   21  25.800         0   2007.94500         0           0\n",
       "1337   61  29.070         0  29141.36030         0           1\n",
       "\n",
       "[1338 rows x 6 columns]"
      ]
     },
     "execution_count": 4,
     "metadata": {},
     "output_type": "execute_result"
    }
   ],
   "source": [
    "dataset=pd.get_dummies(dataset,drop_first=True)\n",
    "dataset"
   ]
  },
  {
   "cell_type": "code",
   "execution_count": 23,
   "metadata": {},
   "outputs": [],
   "source": [
    "independent=dataset[['age', 'bmi', 'children','sex_male', 'smoker_yes']]\n",
    "dependent=dataset[['charges']].values"
   ]
  },
  {
   "cell_type": "code",
   "execution_count": 24,
   "metadata": {},
   "outputs": [],
   "source": [
    "from sklearn.model_selection import train_test_split\n",
    "x_train,x_test,y_train,y_test=train_test_split(independent,dependent,test_size=0.30,random_state=0)"
   ]
  },
  {
   "cell_type": "code",
   "execution_count": 25,
   "metadata": {
    "scrolled": true
   },
   "outputs": [],
   "source": [
    "import xgboost as xgb"
   ]
  },
  {
   "cell_type": "code",
   "execution_count": 26,
   "metadata": {},
   "outputs": [],
   "source": [
    "xgb_reg=xgb.XGBRegressor()"
   ]
  },
  {
   "cell_type": "code",
   "execution_count": 27,
   "metadata": {},
   "outputs": [],
   "source": [
    "param_grid = {\n",
    "    'max_depth': [3, 5, 7],\n",
    "    'learning_rate': [0.1, 0.01, 0.001],\n",
    "    'subsample': [0.8, 0.9, 1.0],\n",
    "    'colsample_bytree': [0.8, 0.9, 1.0]\n",
    "}\n",
    "\n",
    "#grid_search = GridSearchCV(estimator=model, param_grid=param_grid, scoring='neg_mean_squared_error', cv=5)\n",
    "#grid_search.fit(X_train, y_train)\n",
    "\n",
    "\n"
   ]
  },
  {
   "cell_type": "code",
   "execution_count": 28,
   "metadata": {},
   "outputs": [
    {
     "name": "stderr",
     "output_type": "stream",
     "text": [
      "C:\\Users\\Dell\\Anaconda3\\lib\\site-packages\\sklearn\\model_selection\\_search.py:814: DeprecationWarning: The default of the `iid` parameter will change from True to False in version 0.22 and will be removed in 0.24. This will change numeric results when test-set sizes are unequal.\n",
      "  DeprecationWarning)\n"
     ]
    },
    {
     "data": {
      "text/plain": [
       "GridSearchCV(cv=5, error_score='raise-deprecating',\n",
       "             estimator=XGBRegressor(base_score=None, booster=None,\n",
       "                                    callbacks=None, colsample_bylevel=None,\n",
       "                                    colsample_bynode=None,\n",
       "                                    colsample_bytree=None,\n",
       "                                    early_stopping_rounds=None,\n",
       "                                    enable_categorical=False, eval_metric=None,\n",
       "                                    gamma=None, gpu_id=None, grow_policy=None,\n",
       "                                    importance_type=None,\n",
       "                                    interaction_constraints=None,\n",
       "                                    learnin...\n",
       "                                    n_jobs=None, num_parallel_tree=None,\n",
       "                                    objective='reg:squarederror',\n",
       "                                    predictor=None, random_state=None,\n",
       "                                    reg_alpha=None, ...),\n",
       "             iid='warn', n_jobs=None,\n",
       "             param_grid={'colsample_bytree': [0.8, 0.9, 1.0],\n",
       "                         'learning_rate': [0.1, 0.01, 0.001],\n",
       "                         'max_depth': [3, 5, 7], 'subsample': [0.8, 0.9, 1.0]},\n",
       "             pre_dispatch='2*n_jobs', refit=True, return_train_score=False,\n",
       "             scoring='neg_mean_squared_error', verbose=0)"
      ]
     },
     "execution_count": 28,
     "metadata": {},
     "output_type": "execute_result"
    }
   ],
   "source": [
    "from sklearn.model_selection import GridSearchCV\n",
    "grid=GridSearchCV(xgb_reg,param_grid, cv=5, scoring='neg_mean_squared_error')\n",
    "grid.fit(x_train,y_train)"
   ]
  },
  {
   "cell_type": "code",
   "execution_count": 29,
   "metadata": {},
   "outputs": [
    {
     "data": {
      "text/plain": [
       "array([12739.028 , 10352.542 , 45564.32  , 13823.025 ,  9286.334 ,\n",
       "        4509.836 ,  2384.424 , 13183.99  ,  7351.125 ,  6187.795 ,\n",
       "        6048.002 , 12303.582 ,  9497.648 ,  6669.917 , 19823.615 ,\n",
       "       12471.052 , 14683.347 ,  4845.1616,  7012.518 , 32880.402 ,\n",
       "       25588.047 , 15489.063 , 11802.942 , 26976.703 ,  3422.9016,\n",
       "        6005.457 ,  5838.848 ,  8301.145 ,  4362.902 , 11247.32  ,\n",
       "        7806.1826, 47147.113 , 15329.742 , 11953.06  , 17688.84  ,\n",
       "        4944.8506, 13286.851 , 38442.348 , 39020.582 ,  3511.4   ,\n",
       "        4904.802 ,  5207.5024, 19862.246 , 47689.773 , 37217.465 ,\n",
       "        4558.747 , 12578.2705,  7132.0933,  5208.657 , 12524.195 ,\n",
       "        4285.3086,  4144.631 , 26614.525 , 46230.293 , 11484.758 ,\n",
       "        6997.8257,  5738.8574, 10261.804 , 10007.154 , 16655.314 ,\n",
       "        2534.4631, 44013.53  , 17941.334 , 12525.45  , 13493.164 ,\n",
       "       10186.191 , 32296.797 , 38316.29  ,  4011.7812,  9180.003 ,\n",
       "       14939.863 , 12772.901 , 18023.83  , 15123.2   , 14123.674 ,\n",
       "       15429.595 ,  8663.857 ,  9451.812 , 19134.148 , 45919.707 ,\n",
       "       11676.649 , 44854.62  ,  3333.4521,  9807.545 , 40883.883 ,\n",
       "       19051.39  ,  5460.838 ,  3820.4075, 14800.738 , 38396.59  ,\n",
       "        6548.193 , 11844.47  ,  3997.1455, 10973.725 ,  6574.564 ,\n",
       "        5754.4175, 42951.09  , 41403.273 ,  6198.3936, 11030.898 ,\n",
       "        4139.1484,  7776.8003,  7118.199 , 38487.992 , 24707.85  ,\n",
       "        3790.5813, 10733.225 ,  5383.4146, 12184.751 , 43082.613 ,\n",
       "       12381.445 ,  5878.07  , 10631.912 , 33398.84  , 47134.535 ,\n",
       "        7428.775 ,  2911.7483, 10261.804 , 15518.813 , 10228.698 ,\n",
       "       41937.758 , 10976.544 , 13813.954 ,  9600.66  , 10457.847 ,\n",
       "        5558.428 , 25916.71  , 25900.795 , 47189.176 ,  3244.5308,\n",
       "       10616.727 ,  4635.0576,  6661.479 ,  9543.198 , 37470.984 ,\n",
       "       37772.7   , 22660.379 , 11649.364 , 24902.96  ,  5254.2275,\n",
       "        3142.15  , 12724.06  , 15491.717 , 11317.417 ,  6291.0776,\n",
       "       15309.745 , 15866.617 ,  5343.98  ,  2048.119 , 12234.448 ,\n",
       "        7275.9087, 39592.645 , 10386.671 ,  3747.6902,  3633.5195,\n",
       "        8290.276 ,  3619.601 ,  3138.4639, 12471.052 , 11244.634 ,\n",
       "        6302.209 , 13601.128 , 14247.575 , 10103.233 ,  3799.0852,\n",
       "        9134.994 , 15833.936 ,  6685.181 ,  6015.8525,  2634.2703,\n",
       "        7153.999 ,  6822.908 , 10018.213 ,  4668.3735,  6335.0674,\n",
       "        9055.817 ,  5700.2266,  6485.0454, 28314.996 ,  2217.8025,\n",
       "       14974.025 ,  6967.8594, 11681.872 ,  5173.8867,  6274.819 ,\n",
       "       27921.045 ,  3333.4521,  3396.2656, 14556.25  , 12216.815 ,\n",
       "       41852.637 ,  6189.1665,  6016.82  , 25351.99  ,  4545.333 ,\n",
       "        4288.1343,  7697.0312,  7461.088 ,  7023.465 ,  5759.828 ,\n",
       "       12363.918 , 43787.016 , 14142.011 , 19348.107 ,  7001.3296,\n",
       "       43780.195 ,  5391.0254, 12393.457 ,  7810.8813,  2370.6416,\n",
       "       10160.695 , 14185.158 ,  6754.5205,  4347.3496,  7183.5093,\n",
       "        4269.8804,  7050.4126,  5783.7783, 15913.184 ,  8726.651 ,\n",
       "       10473.067 ,  7373.6523, 10099.759 ,  3684.6038, 12685.955 ,\n",
       "       14774.934 , 18871.967 , 12183.346 ,  5959.932 ,  3266.058 ,\n",
       "        2537.6172,  9227.173 , 14901.904 ,  8021.9014,  5403.5728,\n",
       "        7758.091 , 12104.703 , 34533.89  ,  6820.326 , 13001.437 ,\n",
       "        7646.708 , 36308.766 ,  7973.759 ,  9811.75  , 10071.428 ,\n",
       "       12090.0625,  3236.8486,  9519.076 ,  3120.8696,  6705.111 ,\n",
       "       20499.68  , 44739.91  ,  5892.401 ,  5530.368 ,  2607.0657,\n",
       "        2640.711 ,  9960.079 ,  2847.282 ,  7146.6797,  5552.034 ,\n",
       "        9157.294 , 27909.256 , 42901.02  , 18416.98  ,  7389.2085,\n",
       "       11030.898 , 41494.68  , 10460.3545, 39835.293 ,  2891.509 ,\n",
       "       38486.348 ,  7163.775 , 12434.103 ,  7105.9595, 40520.773 ,\n",
       "        7093.9053, 11374.261 , 11106.928 ,  3863.7993, 16356.507 ,\n",
       "       12672.294 ,  6634.0635, 15394.95  ,  3158.0872,  7278.1797,\n",
       "        5673.6934,  9028.788 , 22835.967 ,  4517.4385,  1899.7467,\n",
       "        2202.7002, 46436.387 , 10278.355 ,  5524.634 , 14644.734 ,\n",
       "       12363.918 , 34979.055 ,  8489.051 ,  6685.739 , 10621.145 ,\n",
       "        2732.6936,  4332.2188, 21306.395 , 18476.344 , 14724.09  ,\n",
       "        3584.1143,  4653.3696, 10983.129 , 12803.169 , 15721.232 ,\n",
       "       21479.47  ,  7172.556 , 16549.098 ,  2839.7239,  7393.1353,\n",
       "        6104.4966, 11380.193 ,  2780.546 ,  9228.073 , 46526.473 ,\n",
       "        5006.8896,  5660.6406,  2651.7124, 10300.43  ,  5806.6284,\n",
       "       13263.123 , 45099.504 , 18038.234 , 10502.138 , 46047.453 ,\n",
       "       14786.923 ,  7001.3296, 11023.59  ,  5850.2163, 28918.543 ,\n",
       "        6010.5137, 14285.402 ,  3229.0308, 16635.742 ,  3603.9614,\n",
       "       27272.299 ,  7286.3726,  4269.8804, 40125.2   ,  6292.973 ,\n",
       "        5658.6934, 31740.283 ,  3337.7449, 10104.857 ,  3980.11  ,\n",
       "       12137.149 ,  4031.669 ,  7708.376 ,  6187.795 , 42355.176 ,\n",
       "       11764.223 , 38049.062 , 40146.81  ,  6820.326 ,  9632.25  ,\n",
       "        2703.6953,  7330.9443,  4441.035 , 10443.872 , 45036.98  ,\n",
       "       11067.498 ,  3081.5635, 13890.787 ,  3373.717 , 10628.647 ,\n",
       "        5886.919 ,  4604.5566,  4889.143 , 37162.695 ,  7247.4697,\n",
       "        2054.0964, 42425.547 , 12116.789 , 42515.07  , 11067.498 ,\n",
       "        6936.4434,  2655.6367,  2663.1025, 13041.087 ,  6689.259 ,\n",
       "        3111.1802, 12656.251 ,  7332.4824,  7226.516 ,  5504.6533,\n",
       "        4355.4316, 43867.625 ,  2747.813 , 10549.73  ,  4279.5605,\n",
       "        7295.516 , 11113.026 ,  6260.1772, 17165.398 , 12143.661 ,\n",
       "       15430.726 , 15503.923 ], dtype=float32)"
      ]
     },
     "execution_count": 29,
     "metadata": {},
     "output_type": "execute_result"
    }
   ],
   "source": [
    "grid_pred=grid.predict(x_test)\n",
    "grid_pred"
   ]
  },
  {
   "cell_type": "code",
   "execution_count": 30,
   "metadata": {},
   "outputs": [
    {
     "data": {
      "text/plain": [
       "0.886199462783251"
      ]
     },
     "execution_count": 30,
     "metadata": {},
     "output_type": "execute_result"
    }
   ],
   "source": [
    "from sklearn.metrics import r2_score\n",
    "r2_score=r2_score(y_test,grid_pred)\n",
    "r2_score"
   ]
  },
  {
   "cell_type": "code",
   "execution_count": 20,
   "metadata": {},
   "outputs": [
    {
     "name": "stdout",
     "output_type": "stream",
     "text": [
      "Best Hyperparameters:  {'colsample_bytree': 0.8, 'learning_rate': 0.1, 'max_depth': 3, 'subsample': 0.9}\n",
      "Best MSE Score:  23322644.313994475\n"
     ]
    }
   ],
   "source": [
    "# Print the best hyperparameters and corresponding MSE score\n",
    "print(\"Best Hyperparameters: \", grid.best_params_)\n",
    "print(\"Best MSE Score: \", -grid.best_score_)"
   ]
  },
  {
   "cell_type": "markdown",
   "metadata": {},
   "source": [
    "# Save model"
   ]
  },
  {
   "cell_type": "code",
   "execution_count": 21,
   "metadata": {},
   "outputs": [
    {
     "data": {
      "text/plain": [
       "GridSearchCV(cv=5, error_score='raise-deprecating',\n",
       "             estimator=XGBRegressor(base_score=None, booster=None,\n",
       "                                    callbacks=None, colsample_bylevel=None,\n",
       "                                    colsample_bynode=None,\n",
       "                                    colsample_bytree=None,\n",
       "                                    early_stopping_rounds=None,\n",
       "                                    enable_categorical=False, eval_metric=None,\n",
       "                                    gamma=None, gpu_id=None, grow_policy=None,\n",
       "                                    importance_type=None,\n",
       "                                    interaction_constraints=None,\n",
       "                                    learnin...\n",
       "                                    n_jobs=None, num_parallel_tree=None,\n",
       "                                    objective='reg:squarederror',\n",
       "                                    predictor=None, random_state=None,\n",
       "                                    reg_alpha=None, ...),\n",
       "             iid='warn', n_jobs=None,\n",
       "             param_grid={'colsample_bytree': [0.8, 0.9, 1.0],\n",
       "                         'learning_rate': [0.1, 0.01, 0.001],\n",
       "                         'max_depth': [3, 5, 7], 'subsample': [0.8, 0.9, 1.0]},\n",
       "             pre_dispatch='2*n_jobs', refit=True, return_train_score=False,\n",
       "             scoring='neg_mean_squared_error', verbose=0)"
      ]
     },
     "execution_count": 21,
     "metadata": {},
     "output_type": "execute_result"
    }
   ],
   "source": [
    "import pickle\n",
    "file_name=\"finalized_XGboost.sav\"\n",
    "\n",
    "pickle.dump(grid,open(file_name,\"wb\"))\n",
    "loaded_model=pickle.load(open(\"finalized_XGboost.sav\",\"rb\"))\n",
    "loaded_model\n"
   ]
  },
  {
   "cell_type": "code",
   "execution_count": null,
   "metadata": {},
   "outputs": [],
   "source": []
  },
  {
   "cell_type": "code",
   "execution_count": null,
   "metadata": {},
   "outputs": [],
   "source": []
  }
 ],
 "metadata": {
  "kernelspec": {
   "display_name": "Python 3",
   "language": "python",
   "name": "python3"
  },
  "language_info": {
   "codemirror_mode": {
    "name": "ipython",
    "version": 3
   },
   "file_extension": ".py",
   "mimetype": "text/x-python",
   "name": "python",
   "nbconvert_exporter": "python",
   "pygments_lexer": "ipython3",
   "version": "3.7.4"
  }
 },
 "nbformat": 4,
 "nbformat_minor": 2
}
